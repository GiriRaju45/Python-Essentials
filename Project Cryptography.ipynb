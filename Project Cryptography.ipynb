{
 "cells": [
  {
   "cell_type": "markdown",
   "metadata": {},
   "source": [
    "DAY 5"
   ]
  },
  {
   "cell_type": "markdown",
   "metadata": {},
   "source": [
    "# CRYPTOGRAPHY"
   ]
  },
  {
   "cell_type": "code",
   "execution_count": 4,
   "metadata": {},
   "outputs": [],
   "source": [
    "from cryptography.fernet import Fernet\n"
   ]
  },
  {
   "cell_type": "code",
   "execution_count": 5,
   "metadata": {},
   "outputs": [],
   "source": [
    " def generate_key() :\n",
    "     key = Fernet.generate_key()\n",
    "     print(key)\n",
    "     print(type(key))\n",
    "     secret = open(\"password.key\" , 'wb')\n",
    "     secret.write(key)\n",
    "     secret.close()"
   ]
  },
  {
   "cell_type": "code",
   "execution_count": 6,
   "metadata": {},
   "outputs": [
    {
     "name": "stdout",
     "output_type": "stream",
     "text": [
      "b'WOoORlPe_uQ9dg5pg6YTx1pvSYDfxc6cCKRNFCIe78w='\n",
      "<class 'bytes'>\n"
     ]
    }
   ],
   "source": [
    "generate_key()"
   ]
  },
  {
   "cell_type": "code",
   "execution_count": 7,
   "metadata": {},
   "outputs": [],
   "source": [
    "def getmykey():\n",
    "    secret = open(\"password.key\",'rb')\n",
    "    return secret.read()"
   ]
  },
  {
   "cell_type": "code",
   "execution_count": 8,
   "metadata": {},
   "outputs": [
    {
     "data": {
      "text/plain": [
       "b'WOoORlPe_uQ9dg5pg6YTx1pvSYDfxc6cCKRNFCIe78w='"
      ]
     },
     "execution_count": 8,
     "metadata": {},
     "output_type": "execute_result"
    }
   ],
   "source": [
    "getmykey()"
   ]
  },
  {
   "cell_type": "code",
   "execution_count": 9,
   "metadata": {},
   "outputs": [],
   "source": [
    "def getcontent():\n",
    "    return input(\"enter the message to be encrypted:\")"
   ]
  },
  {
   "cell_type": "code",
   "execution_count": 11,
   "metadata": {},
   "outputs": [
    {
     "name": "stdout",
     "output_type": "stream",
     "text": [
      "enter the message to be encrypted:hello\n"
     ]
    },
    {
     "data": {
      "text/plain": [
       "'hello'"
      ]
     },
     "execution_count": 11,
     "metadata": {},
     "output_type": "execute_result"
    }
   ],
   "source": [
    "getcontent()"
   ]
  },
  {
   "cell_type": "code",
   "execution_count": 12,
   "metadata": {},
   "outputs": [],
   "source": [
    "def encrypt_message(normal_message):\n",
    "    key = getmykey()\n",
    "    k = Fernet(key)\n",
    "    secret_message = k.encrypt(normal_message)\n",
    "    return secret_message"
   ]
  },
  {
   "cell_type": "code",
   "execution_count": 13,
   "metadata": {},
   "outputs": [
    {
     "data": {
      "text/plain": [
       "b'gAAAAABf3VtvIeZgKq4bue_h9psuztw-ukTCnlU4slY894mXElq3IR180aW8V8qD71_nHi41kt_ddsdWd9-gLwp4hE7Bwb1Cv3ewKsGijXrZByHFZESH3Jw='"
      ]
     },
     "execution_count": 13,
     "metadata": {},
     "output_type": "execute_result"
    }
   ],
   "source": [
    "encrypt_message(b\" this is my number 6834982495\")"
   ]
  },
  {
   "cell_type": "code",
   "execution_count": 26,
   "metadata": {},
   "outputs": [],
   "source": [
    "def decrypt_message(secret_message):\n",
    "    key = getmykey()\n",
    "    k = Fernet(key) \n",
    "    decrypted_message = k.decrypt(secret_message)\n",
    "    return decrypted_message  "
   ]
  },
  {
   "cell_type": "code",
   "execution_count": 27,
   "metadata": {
    "scrolled": true
   },
   "outputs": [
    {
     "data": {
      "text/plain": [
       "b' this is my number 6834982495'"
      ]
     },
     "execution_count": 27,
     "metadata": {},
     "output_type": "execute_result"
    }
   ],
   "source": [
    "decrypt_message(b'gAAAAABf3VtvIeZgKq4bue_h9psuztw-ukTCnlU4slY894mXElq3IR180aW8V8qD71_nHi41kt_ddsdWd9-gLwp4hE7Bwb1Cv3ewKsGijXrZByHFZESH3Jw=')"
   ]
  },
  {
   "cell_type": "code",
   "execution_count": null,
   "metadata": {},
   "outputs": [],
   "source": []
  }
 ],
 "metadata": {
  "kernelspec": {
   "display_name": "Python 3",
   "language": "python",
   "name": "python3"
  },
  "language_info": {
   "codemirror_mode": {
    "name": "ipython",
    "version": 3
   },
   "file_extension": ".py",
   "mimetype": "text/x-python",
   "name": "python",
   "nbconvert_exporter": "python",
   "pygments_lexer": "ipython3",
   "version": "3.8.5"
  }
 },
 "nbformat": 4,
 "nbformat_minor": 2
}

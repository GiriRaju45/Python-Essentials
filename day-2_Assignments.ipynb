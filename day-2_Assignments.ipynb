{
 "metadata": {
  "language_info": {
   "codemirror_mode": {
    "name": "ipython",
    "version": 3
   },
   "file_extension": ".py",
   "mimetype": "text/x-python",
   "name": "python",
   "nbconvert_exporter": "python",
   "pygments_lexer": "ipython3",
   "version": "3.8.5-final"
  },
  "orig_nbformat": 2,
  "kernelspec": {
   "name": "python3",
   "display_name": "Python 3",
   "language": "python"
  }
 },
 "nbformat": 4,
 "nbformat_minor": 2,
 "cells": [
  {
   "source": [
    "ASSIGNMENTS FOR DAY 2"
   ],
   "cell_type": "markdown",
   "metadata": {}
  },
  {
   "source": [
    "# STRING FUNCTIONS\n",
    "info = \"hello! my name is Sam, my hobby is playing\"\n",
    "print(info.capitalize())\n",
    "print(info.count(\"my\"))\n",
    "print(info.isalnum())\n",
    "print(info.isalpha())\n",
    "ref = {83 :76}\n",
    "print(info.translate(ref))\n",
    "print(info.split())"
   ],
   "cell_type": "code",
   "metadata": {},
   "execution_count": 1,
   "outputs": [
    {
     "output_type": "stream",
     "name": "stdout",
     "text": [
      "Hello! my name is sam, my hobby is playing\n2\nFalse\nFalse\nhello! my name is Lam, my hobby is playing\n['hello!', 'my', 'name', 'is', 'Sam,', 'my', 'hobby', 'is', 'playing']\n"
     ]
    }
   ]
  },
  {
   "source": [],
   "cell_type": "markdown",
   "metadata": {}
  },
  {
   "source": [
    "# LISTS FUNCTIONS\n",
    "fruits = [\"APPLE\", \"orange\", \"banana\", \"melon\", \"blueberries\"]\n",
    "fruits.append(\"strawberry\")\n",
    "print(fruits)\n",
    "print(fruits.count(\"orange\"))\n",
    "print(fruits.reverse())\n",
    "print(fruits[2])\n",
    "orders = fruits.copy()\n",
    "print(orders)\n"
   ],
   "cell_type": "code",
   "metadata": {},
   "execution_count": 12,
   "outputs": [
    {
     "output_type": "stream",
     "name": "stdout",
     "text": [
      "['APPLE', 'orange', 'banana', 'melon', 'blueberries', 'strawberry']\n1\nNone\nmelon\n['strawberry', 'blueberries', 'melon', 'banana', 'orange', 'APPLE']\n"
     ]
    }
   ]
  },
  {
   "cell_type": "code",
   "execution_count": 2,
   "metadata": {},
   "outputs": [
    {
     "output_type": "stream",
     "name": "stdout",
     "text": [
      "40\ndict_items([('burger', 45), ('coffee', 40), ('chocolates', 30)])\n{'burger': 45, 'coffee': 40, 'chocolates': 30, 'pizza': 75}\n{'burger': 45, 'coffee': 40, 'chocolates': 30, 'pizza': 75, 'smoothie': 100, 'cake': 70}\n{}\n"
     ]
    }
   ],
   "source": [
    "#DICTIONARY FUNCTIONS\n",
    "details = {\"burger\" : 45, \"coffee\" : 40, \"chocolates\" : 30}\n",
    "print(details.get(\"coffee\"))\n",
    "print(details.items())\n",
    "details.update({\"pizza\": 75})\n",
    "print(details)\n",
    "additional_details = {\"smoothie\" : 100, \"cake\" : 70}\n",
    "details.update(additional_details)\n",
    "print(details)\n",
    "details.clear()\n",
    "print(details)"
   ]
  },
  {
   "cell_type": "code",
   "execution_count": null,
   "metadata": {},
   "outputs": [],
   "source": []
  }
 ]
}